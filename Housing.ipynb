{
 "cells": [
  {
   "metadata": {},
   "cell_type": "markdown",
   "source": "# This is a Linear Regression Model for predicting the Housing price",
   "id": "487460310c6c31a4"
  },
  {
   "metadata": {
    "ExecuteTime": {
     "end_time": "2024-10-25T15:04:22.054297Z",
     "start_time": "2024-10-25T15:04:14.266114Z"
    }
   },
   "cell_type": "code",
   "source": [
    "import tensorflow as tf\n",
    "import numpy as np\n",
    "import matplotlib.pyplot as plt\n",
    "from sklearn.linear_model import LinearRegression, SGDRegressor\n",
    "from sklearn.preprocessing import PolynomialFeatures, StandardScaler\n",
    "from sklearn.model_selection import train_test_split\n",
    "from sklearn.metrics import mean_squared_error\n",
    "from tensorflow.keras.models import Sequential\n",
    "from tensorflow.keras.layers import Dense\n",
    "\n",
    "plt.style.use('deeplearning.mplstyle')"
   ],
   "id": "88e0484a74fe59cf",
   "outputs": [],
   "execution_count": 1
  },
  {
   "metadata": {
    "ExecuteTime": {
     "end_time": "2024-10-25T15:04:22.141133Z",
     "start_time": "2024-10-25T15:04:22.056212Z"
    }
   },
   "cell_type": "code",
   "source": [
    "#Loading the data set\n",
    "data = np.loadtxt('./data/data_house.csv', delimiter=',', skiprows=1)\n",
    "\n",
    "Y = data[:, 0]\n",
    "X = data[:, 1:]\n",
    "\n",
    "\n",
    "print(f'The shape of the input is {X.shape}')\n",
    "print(f'The shape of the output is {Y.shape}')"
   ],
   "id": "405dd653f5dbfc6",
   "outputs": [
    {
     "name": "stdout",
     "output_type": "stream",
     "text": [
      "The shape of the input is (21613, 14)\n",
      "The shape of the output is (21613,)\n"
     ]
    }
   ],
   "execution_count": 2
  },
  {
   "metadata": {
    "ExecuteTime": {
     "end_time": "2024-10-25T15:04:22.152285Z",
     "start_time": "2024-10-25T15:04:22.143191Z"
    }
   },
   "cell_type": "code",
   "source": [
    "# Printing the first five rows of data\n",
    "print(f' The first five input\\n {X[:5]}')\n",
    "print(f'The first five output\\n {Y[:5]}')"
   ],
   "id": "5ebb74bd1f1c85d0",
   "outputs": [
    {
     "name": "stdout",
     "output_type": "stream",
     "text": [
      " The first five input\n",
      " [[3.000e+00 1.000e+00 1.180e+03 5.650e+03 1.000e+00 0.000e+00 0.000e+00\n",
      "  3.000e+00 7.000e+00 1.180e+03 0.000e+00 1.955e+03 1.340e+03 5.650e+03]\n",
      " [3.000e+00 2.250e+00 2.570e+03 7.242e+03 2.000e+00 0.000e+00 0.000e+00\n",
      "  3.000e+00 7.000e+00 2.170e+03 4.000e+02 1.951e+03 1.690e+03 7.639e+03]\n",
      " [2.000e+00 1.000e+00 7.700e+02 1.000e+04 1.000e+00 0.000e+00 0.000e+00\n",
      "  3.000e+00 6.000e+00 7.700e+02 0.000e+00 1.933e+03 2.720e+03 8.062e+03]\n",
      " [4.000e+00 3.000e+00 1.960e+03 5.000e+03 1.000e+00 0.000e+00 0.000e+00\n",
      "  5.000e+00 7.000e+00 1.050e+03 9.100e+02 1.965e+03 1.360e+03 5.000e+03]\n",
      " [3.000e+00 2.000e+00 1.680e+03 8.080e+03 1.000e+00 0.000e+00 0.000e+00\n",
      "  3.000e+00 8.000e+00 1.680e+03 0.000e+00 1.987e+03 1.800e+03 7.503e+03]]\n",
      "The first five output\n",
      " [221900. 538000. 180000. 604000. 510000.]\n"
     ]
    }
   ],
   "execution_count": 3
  },
  {
   "metadata": {
    "ExecuteTime": {
     "end_time": "2024-10-25T15:04:22.173172Z",
     "start_time": "2024-10-25T15:04:22.153148Z"
    }
   },
   "cell_type": "code",
   "source": [
    "# Splitting the data into training, cross validation and testing\n",
    "\n",
    "x_train, x_, y_train, y_ = train_test_split(X, Y, test_size= 0.40, random_state=1)\n",
    "x_cv, x_test, y_cv, y_test = train_test_split(x_, y_, test_size= 0.50, random_state=1)\n",
    "\n",
    "del x_, y_ \n",
    "\n",
    "print(f'The shape of the training input is {x_train.shape}')\n",
    "print(f'The shape of the training output is {y_train.shape}')\n",
    "print(f'The shape of the cross validation input is {x_cv.shape}')\n",
    "print(f'The shape of the cross validation output is {y_cv.shape}')\n",
    "print(f'The shape of the testing input is {x_test.shape}')\n",
    "print(f'The shape of the testing output is {y_test.shape}')"
   ],
   "id": "944bb07cac8d0544",
   "outputs": [
    {
     "name": "stdout",
     "output_type": "stream",
     "text": [
      "The shape of the training input is (12967, 14)\n",
      "The shape of the training output is (12967,)\n",
      "The shape of the cross validation input is (4323, 14)\n",
      "The shape of the cross validation output is (4323,)\n",
      "The shape of the testing input is (4323, 14)\n",
      "The shape of the testing output is (4323,)\n"
     ]
    }
   ],
   "execution_count": 4
  },
  {
   "metadata": {
    "ExecuteTime": {
     "end_time": "2024-10-25T15:04:22.195982Z",
     "start_time": "2024-10-25T15:04:22.175200Z"
    }
   },
   "cell_type": "code",
   "source": [
    "# Running feature scaling on the training input\n",
    "\n",
    "scaler_linear = StandardScaler()\n",
    "\n",
    "x_train_scaled = scaler_linear.fit_transform(x_train)\n",
    "\n",
    "print(f'Computed mean of the scaled training set{scaler_linear.mean_.squeeze()}')\n",
    "print(f'Computed standard deviation of the scaled training set{scaler_linear.scale_.squeeze()}')"
   ],
   "id": "f6e223cd64903760",
   "outputs": [
    {
     "name": "stdout",
     "output_type": "stream",
     "text": [
      "Computed mean of the scaled training set[3.36562042e+00 2.11151384e+00 2.07418262e+03 1.53417450e+04\n",
      " 1.49706948e+00 7.63476517e-03 2.30585332e-01 3.40811290e+00\n",
      " 7.65443048e+00 1.78231326e+03 2.91869361e+02 1.97096722e+03\n",
      " 1.98099784e+03 1.28027797e+04]\n",
      "Computed standard deviation of the scaled training set[9.42946915e-01 7.61603435e-01 9.01038756e+02 4.49444524e+04\n",
      " 5.42046302e-01 8.70429522e-02 7.58619265e-01 6.49864080e-01\n",
      " 1.16722758e+00 8.15925969e+02 4.39800457e+02 2.95305798e+01\n",
      " 6.76571762e+02 2.82824115e+04]\n"
     ]
    }
   ],
   "execution_count": 5
  },
  {
   "metadata": {
    "ExecuteTime": {
     "end_time": "2024-10-25T15:04:22.206766Z",
     "start_time": "2024-10-25T15:04:22.195982Z"
    }
   },
   "cell_type": "code",
   "source": "print(x_train_scaled[:5])",
   "id": "3f31e6998cda95d0",
   "outputs": [
    {
     "name": "stdout",
     "output_type": "stream",
     "text": [
      "[[-0.38774232  0.51008982  0.41709347 -0.21319083  0.92783682 -0.08771262\n",
      "  -0.30395396 -0.62799732  1.15279107  0.8183178  -0.66364042  0.98314275\n",
      "   0.69320386 -0.24894552]\n",
      " [-0.38774232  0.51008982  1.63790666  2.69224005  0.92783682 -0.08771262\n",
      "  -0.30395396 -0.62799732  2.00952202  2.16647933 -0.66364042  0.2042891\n",
      "   1.62436895  7.15579788]\n",
      " [-0.38774232  0.51008982 -0.6594418  -0.1548744  -0.91702403 -0.08771262\n",
      "  -0.30395396  0.91078599 -0.56067085 -0.37051555 -0.66364042 -0.10047972\n",
      "  -0.4005456  -0.16804719]\n",
      " [ 0.67276277  0.181835    0.02865291 -0.05793251  0.92783682 -0.08771262\n",
      "  -0.30395396  0.91078599  0.29606011  0.38935731 -0.66364042  0.13656269\n",
      "   0.02808595 -0.02520222]\n",
      " [ 0.67276277 -0.47467465 -0.61504859 -0.17002644 -0.91702403 -0.08771262\n",
      "  -0.30395396  0.91078599 -0.56067085 -0.32149149 -0.66364042 -0.13434293\n",
      "  -0.68137316 -0.1874939 ]]\n"
     ]
    }
   ],
   "execution_count": 6
  },
  {
   "metadata": {},
   "cell_type": "markdown",
   "source": "Training the model without polynomial features",
   "id": "5c579d0acc15c89b"
  },
  {
   "metadata": {
    "ExecuteTime": {
     "end_time": "2024-10-25T15:04:22.398819Z",
     "start_time": "2024-10-25T15:04:22.206766Z"
    }
   },
   "cell_type": "code",
   "source": [
    "# Training the model without the scaled input \n",
    "linear_model_unscaled = LinearRegression()\n",
    "\n",
    "linear_model_unscaled.fit(x_train, y_train)\n",
    "\n",
    "# getting prediction and calculating the mean squared error \n",
    "y_hat = linear_model_unscaled.predict(x_train)\n",
    "error = mean_squared_error(y_train, y_hat)\n",
    "print(f'The mean squared error of the model without scaling: {error/ 2}')\n",
    "\n",
    "# Training the model with the scaled input \n",
    "linear_model = LinearRegression()\n",
    "\n",
    "linear_model.fit(x_train_scaled, y_train)\n",
    "y_hat = linear_model.predict(x_train_scaled)\n",
    "error = mean_squared_error(y_train, y_hat)\n",
    "print(f'The mean squared error of the model with scaling: {error/ 2}')"
   ],
   "id": "18bf292b478357fd",
   "outputs": [
    {
     "name": "stdout",
     "output_type": "stream",
     "text": [
      "The mean squared error of the model without scaling: 22069251042.295265\n",
      "The mean squared error of the model with scaling: 22069251042.295258\n"
     ]
    }
   ],
   "execution_count": 7
  },
  {
   "metadata": {},
   "cell_type": "markdown",
   "source": [
    "Notice the difference between the scaled and unscaled version is very minimal \n",
    "This is because the polynomial features haven't been added yet "
   ],
   "id": "2c3aa05ec3d17e02"
  },
  {
   "metadata": {
    "ExecuteTime": {
     "end_time": "2024-10-25T15:04:22.414926Z",
     "start_time": "2024-10-25T15:04:22.401896Z"
    }
   },
   "cell_type": "code",
   "source": [
    "# Scaling the cross validation input with the mean and deviation of the training input\n",
    "\n",
    "x_cv_scaled = scaler_linear.transform(x_cv)\n",
    "\n",
    "print(f'Mean used to scale the cross validation input {scaler_linear.mean_.squeeze()}')\n",
    "print(f'Standard deviation used to scale the cross validation input {scaler_linear.scale_.squeeze()}')\n",
    "\n",
    "y_hat = linear_model.predict(x_cv_scaled)\n",
    "\n",
    "error = mean_squared_error(y_cv, y_hat)\n",
    "print(f'The mean squared error of the model: {error / 2}')"
   ],
   "id": "e3d4082ada8c5f90",
   "outputs": [
    {
     "name": "stdout",
     "output_type": "stream",
     "text": [
      "Mean used to scale the cross validation input [3.36562042e+00 2.11151384e+00 2.07418262e+03 1.53417450e+04\n",
      " 1.49706948e+00 7.63476517e-03 2.30585332e-01 3.40811290e+00\n",
      " 7.65443048e+00 1.78231326e+03 2.91869361e+02 1.97096722e+03\n",
      " 1.98099784e+03 1.28027797e+04]\n",
      "Standard deviation used to scale the cross validation input [9.42946915e-01 7.61603435e-01 9.01038756e+02 4.49444524e+04\n",
      " 5.42046302e-01 8.70429522e-02 7.58619265e-01 6.49864080e-01\n",
      " 1.16722758e+00 8.15925969e+02 4.39800457e+02 2.95305798e+01\n",
      " 6.76571762e+02 2.82824115e+04]\n",
      "The mean squared error of the model: 25225048284.30653\n"
     ]
    }
   ],
   "execution_count": 8
  },
  {
   "metadata": {},
   "cell_type": "markdown",
   "source": " Adding polynomial features to the input for a better cost function and running model evaluation to get the best degree to use for the model",
   "id": "99f3cbd3006d00c0"
  },
  {
   "metadata": {
    "ExecuteTime": {
     "end_time": "2024-10-25T15:04:27.162135Z",
     "start_time": "2024-10-25T15:04:22.418227Z"
    }
   },
   "cell_type": "code",
   "source": [
    "train_mse = []\n",
    "cv_mse = []\n",
    "models = []\n",
    "polys = []\n",
    "scalers = []\n",
    "\n",
    "for degree in range(1, 4):\n",
    "    # Adding polynomial features to the input\n",
    "    poly = PolynomialFeatures(degree, include_bias=False)\n",
    "    x_train_mapped = poly.fit_transform(x_train)\n",
    "    polys.append(poly)\n",
    "    \n",
    "    # Scaling the training input \n",
    "    scaler = StandardScaler()\n",
    "    x_train_mapped_scaled = scaler.fit_transform(x_train_mapped)\n",
    "    scalers.append(scaler)\n",
    "    \n",
    "    # Training the model\n",
    "    model = LinearRegression()\n",
    "    model.fit(x_train_mapped_scaled, y_train)\n",
    "    models.append(model)\n",
    "    \n",
    "    # Calculating the MSE for the training set\n",
    "    y_hat = model.predict(x_train_mapped_scaled)\n",
    "    mse = mean_squared_error(y_train, y_hat)\n",
    "    mse_ = mse / 2\n",
    "    train_mse.append(mse_)\n",
    "    \n",
    "    # Scaling the cross validation input\n",
    "    x_cv_mapped = poly.transform(x_cv)\n",
    "    x_cv_mapped_scaled = scaler.transform(x_cv_mapped)\n",
    "    \n",
    "    # Calculating the MSE for the cross validation set\n",
    "    y_hat_c = model.predict(x_cv_mapped_scaled)\n",
    "    mse = mean_squared_error(y_cv, y_hat_c)\n",
    "    mse_ = mse / 2\n",
    "    cv_mse.append(mse_)"
   ],
   "id": "4c859f3fe90fa8a8",
   "outputs": [],
   "execution_count": 9
  },
  {
   "metadata": {
    "ExecuteTime": {
     "end_time": "2024-10-25T15:04:27.173127Z",
     "start_time": "2024-10-25T15:04:27.162948Z"
    }
   },
   "cell_type": "code",
   "source": [
    "print(train_mse)\n",
    "print(cv_mse)"
   ],
   "id": "fe44452b56b22903",
   "outputs": [
    {
     "name": "stdout",
     "output_type": "stream",
     "text": [
      "[22069251042.295258, 16674659544.761543, 13274721671.057415]\n",
      "[25225048284.30653, 18578706226.238876, 29814133511.052895]\n"
     ]
    }
   ],
   "execution_count": 10
  },
  {
   "metadata": {
    "ExecuteTime": {
     "end_time": "2024-10-25T15:04:27.186112Z",
     "start_time": "2024-10-25T15:04:27.173127Z"
    }
   },
   "cell_type": "code",
   "source": [
    "degree = np.argmin(cv_mse) + 1\n",
    "print(f'The best degree to use for the model is {degree}')"
   ],
   "id": "5b9e4a7f2e216d5",
   "outputs": [
    {
     "name": "stdout",
     "output_type": "stream",
     "text": [
      "The best degree to use for the model is 2\n"
     ]
    }
   ],
   "execution_count": 11
  },
  {
   "metadata": {},
   "cell_type": "markdown",
   "source": "Computing the test error for the model",
   "id": "b243c762d922beb9"
  },
  {
   "metadata": {
    "ExecuteTime": {
     "end_time": "2024-10-25T15:04:27.212955Z",
     "start_time": "2024-10-25T15:04:27.187204Z"
    }
   },
   "cell_type": "code",
   "source": [
    "x_test_mapped = polys[degree - 1].transform(x_test)\n",
    "x_test_mapped_scaled = scalers[degree - 1].transform(x_test_mapped)\n",
    "\n",
    "y_hat = models[degree - 1].predict(x_test_mapped_scaled)\n",
    "error = mean_squared_error(y_test, y_hat)\n",
    "print(f'The mean squared error of the model on the test set is {error / 2}')"
   ],
   "id": "a1b587fb4d58ebe2",
   "outputs": [
    {
     "name": "stdout",
     "output_type": "stream",
     "text": [
      "The mean squared error of the model on the test set is 17481238362.234074\n"
     ]
    }
   ],
   "execution_count": 12
  },
  {
   "metadata": {
    "ExecuteTime": {
     "end_time": "2024-10-25T15:04:27.525372Z",
     "start_time": "2024-10-25T15:04:27.212955Z"
    }
   },
   "cell_type": "code",
   "source": [
    "# Plotting the learning curve\n",
    "degree = range(1, 4)\n",
    "plt.plot(degree, train_mse, label='Training Error', marker='o')\n",
    "plt.plot(degree, cv_mse, label='Cross Validation Error', marker='o')\n",
    "\n",
    "plt.xlabel('Polynomial Degree')\n",
    "plt.ylabel('Mean Squared Error')\n",
    "\n",
    "plt.legend()\n",
    "plt.grid(True)\n",
    "plt.show()\n"
   ],
   "id": "f0240a7781bb4834",
   "outputs": [
    {
     "data": {
      "text/plain": [
       "<Figure size 1200x800 with 1 Axes>"
      ],
      "image/png": "[encoded data removed]"
     },
     "metadata": {},
     "output_type": "display_data"
    }
   ],
   "execution_count": 13
  },
  {
   "metadata": {},
   "cell_type": "markdown",
   "source": "# Using Neural Network to predict the housing price ",
   "id": "26fa79f1ab9901"
  },
  {
   "metadata": {},
   "cell_type": "markdown",
   "source": "Neural Network can learn to fit non-linear functions so adding a polynomial feature isn't necessary ",
   "id": "75468b6099b7afa8"
  },
  {
   "metadata": {
    "ExecuteTime": {
     "end_time": "2024-10-25T15:04:27.548284Z",
     "start_time": "2024-10-25T15:04:27.530896Z"
    }
   },
   "cell_type": "code",
   "source": [
    "# Scaling The data \n",
    "nn_scaler = StandardScaler()\n",
    "x_nn_train_scaled = nn_scaler.fit_transform(x_train)\n",
    "x_nn_cv_scaled = nn_scaler.transform(x_cv)\n",
    "x_nn_test_scaled = nn_scaler.transform(x_test)\n"
   ],
   "id": "39cfdf8aabe148fb",
   "outputs": [],
   "execution_count": 14
  },
  {
   "metadata": {
    "ExecuteTime": {
     "end_time": "2024-10-25T15:04:27.567164Z",
     "start_time": "2024-10-25T15:04:27.551847Z"
    }
   },
   "cell_type": "code",
   "source": [
    "# Building the Models\n",
    "def train_model():\n",
    "    tf\n",
    "    model_1 = Sequential(\n",
    "        [\n",
    "        Dense(25, activation='relu'),\n",
    "        Dense(30, activation='relu'),\n",
    "        Dense(50, activation='relu'),\n",
    "        Dense(1, activation='relu')\n",
    "        ],\n",
    "        name='model_1'\n",
    "    )\n",
    "    \n",
    "    model_2 = Sequential(\n",
    "        [\n",
    "        Dense(40, activation='relu'),\n",
    "        Dense(57, activation='relu'),\n",
    "        Dense(70, activation='relu'),\n",
    "        Dense(80, activation='relu'),\n",
    "        Dense(30, activation='relu'),\n",
    "        Dense(1, activation='relu')\n",
    "        ],\n",
    "        name='model_2'\n",
    "    )\n",
    "    \n",
    "    model_3 = Sequential(\n",
    "        [\n",
    "        Dense(100, activation='relu'),\n",
    "        Dense(120, activation='relu'),\n",
    "        Dense(150, activation='relu'),\n",
    "        Dense(100, activation='relu'),\n",
    "        Dense(120, activation='relu'),\n",
    "        Dense(90, activation='relu'),\n",
    "        Dense(50, activation='relu'),\n",
    "        Dense(30, activation='relu'),\n",
    "        Dense(1, activation='relu')\n",
    "        ], name='model_3'\n",
    "    )\n",
    "    \n",
    "    nn_models = [model_1, model_2, model_3]\n",
    "    return nn_models"
   ],
   "id": "70f92298a1ccf508",
   "outputs": [],
   "execution_count": 15
  },
  {
   "metadata": {
    "ExecuteTime": {
     "end_time": "2024-10-25T15:19:58.382975Z",
     "start_time": "2024-10-25T15:19:58.011041Z"
    }
   },
   "cell_type": "code",
   "source": [
    "# Training the models\n",
    "train_mse = []\n",
    "test_mse = []\n",
    "\n",
    "\n",
    "nn_models = train_model()\n",
    "for model in nn_models:\n",
    "    # Setting up the loss and optimizer\n",
    "    model.compile(optimizer=tf.keras.optimizers.Adam(learning_rate=0.001),\n",
    "                  loss=tf.keras.losses.MeanSquaredError())\n",
    "    \n",
    "    print(f'Training Model: {model.name}...')\n",
    "    \n",
    "    # Training the model\n",
    "    model.fit(x_nn_train_scaled, y_train, epochs=300, verbose=1)\n",
    "    \n",
    "    print(f'Done Training {model.name}')\n",
    "    \n",
    "    # Calculating the mean squared error for the training set\n",
    "    \n",
    "    y_hat = model.predict(x_nn_train_scaled)\n",
    "    error = mean_squared_error(y_train, y_hat) / 2\n",
    "    test_mse.append(error)\n",
    "    \n",
    "    # Calculating the mean squared error for the cross validation set\n",
    "    \n",
    "    y_cv_hat = model.predict(x_nn_cv_scaled)\n",
    "    error = mean_squared_error(y_cv, y_cv_hat) / 2\n",
    "    train_mse.append(error)\n",
    "    \n",
    "    \n",
    "print('Done...')\n",
    "print('Results:')\n",
    "\n",
    "for i in range(len(train_mse)):\n",
    "    print(f'{nn_models[i].name} Train MSE: {train_mse[i]}')\n",
    "    print(f'{nn_models[i].name} CV MSE: {test_mse[i]}')"
   ],
   "id": "695ac63e56771c67",
   "outputs": [
    {
     "ename": "NameError",
     "evalue": "name 'train_model' is not defined",
     "output_type": "error",
     "traceback": [
      "\u001B[1;31m---------------------------------------------------------------------------\u001B[0m",
      "\u001B[1;31mNameError\u001B[0m                                 Traceback (most recent call last)",
      "Cell \u001B[1;32mIn[1], line 6\u001B[0m\n\u001B[0;32m      2\u001B[0m train_mse \u001B[38;5;241m=\u001B[39m []\n\u001B[0;32m      3\u001B[0m test_mse \u001B[38;5;241m=\u001B[39m []\n\u001B[1;32m----> 6\u001B[0m nn_models \u001B[38;5;241m=\u001B[39m \u001B[43mtrain_model\u001B[49m()\n\u001B[0;32m      7\u001B[0m \u001B[38;5;28;01mfor\u001B[39;00m model \u001B[38;5;129;01min\u001B[39;00m nn_models:\n\u001B[0;32m      8\u001B[0m     \u001B[38;5;66;03m# Setting up the loss and optimizer\u001B[39;00m\n\u001B[0;32m      9\u001B[0m     model\u001B[38;5;241m.\u001B[39mcompile(optimizer\u001B[38;5;241m=\u001B[39mtf\u001B[38;5;241m.\u001B[39mkeras\u001B[38;5;241m.\u001B[39moptimizers\u001B[38;5;241m.\u001B[39mAdam(learning_rate\u001B[38;5;241m=\u001B[39m\u001B[38;5;241m0.001\u001B[39m),\n\u001B[0;32m     10\u001B[0m                   loss\u001B[38;5;241m=\u001B[39mtf\u001B[38;5;241m.\u001B[39mkeras\u001B[38;5;241m.\u001B[39mlosses\u001B[38;5;241m.\u001B[39mMeanSquaredError())\n",
      "\u001B[1;31mNameError\u001B[0m: name 'train_model' is not defined"
     ]
    }
   ],
   "execution_count": 1
  },
  {
   "metadata": {},
   "cell_type": "markdown",
   "source": "Notice the low cv which indicates that the model is generalizing well to new data",
   "id": "6c4ef7267a84abe8"
  },
  {
   "metadata": {
    "jupyter": {
     "is_executing": true
    }
   },
   "cell_type": "code",
   "source": [
    "# Selecting the best model to use for the test set\n",
    "model_num = 2\n",
    "\n",
    "# testing the best model on the test data\n",
    "y_hat = nn_models[model_num - 1].predict(x_nn_test_scaled)\n",
    "error = mean_squared_error(y_test, y_hat) / 2\n",
    "print(f'mse: {error}')\n"
   ],
   "id": "e898eba3fe53d755",
   "outputs": [],
   "execution_count": null
  },
  {
   "metadata": {},
   "cell_type": "code",
   "outputs": [],
   "execution_count": null,
   "source": "",
   "id": "70b8c058ea243ed0"
  }
 ],
 "metadata": {
  "kernelspec": {
   "display_name": "Python 3 (ipykernel)",
   "language": "python",
   "name": "python3"
  },
  "language_info": {
   "codemirror_mode": {
    "name": "ipython",
    "version": 3
   },
   "file_extension": ".py",
   "mimetype": "text/x-python",
   "name": "python",
   "nbconvert_exporter": "python",
   "pygments_lexer": "ipython3",
   "version": "3.12.0"
  }
 },
 "nbformat": 4,
 "nbformat_minor": 5
}
